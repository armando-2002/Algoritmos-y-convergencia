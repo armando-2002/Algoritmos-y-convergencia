{
 "cells": [
  {
   "cell_type": "raw",
   "id": "87fd6713-d887-4f87-a598-9e9c741eca85",
   "metadata": {},
   "source": [
    "---\n",
    "title: \"Deber Metodos Numericos Parte 1\"\n",
    "author: \"Jose Armando Sarango Cuenca\"\n",
    "lang: es\n",
    "format: \n",
    "  pdf:\n",
    "    toc: true\n",
    "    toc-title: \"Tabla de Contenidos\"  \n",
    "execute:\n",
    "  echo: true\n",
    "  error: false\n",
    "  warning: false\n",
    "jupyter: python3\n",
    "---"
   ]
  },
  {
   "cell_type": "markdown",
   "id": "96555d42-1f4c-4c4d-a4bb-0f0369899604",
   "metadata": {},
   "source": [
    "**1. Utilice aritmética de corte de tres dígitos para calcular las siguientes sumas. Para cada parte, ¿qué método es más preciso y por qué?**"
   ]
  },
  {
   "cell_type": "markdown",
   "id": "3c5967db-b927-4b41-8674-4cd9a1b6c28b",
   "metadata": {},
   "source": [
    "**a) $\n",
    "\\sum_{n=1}^{10} \\left( \\frac{1}{n^2} \\right)$ primero por $ \\frac{1}{1} + \\frac{1}{4} + \\cdots + \\frac{1}{100}\n",
    "$** y luego por $ \\frac{1}{100} + \\frac{1}{81} + \\cdots + \\frac{1}{1}$"
   ]
  },
  {
   "cell_type": "code",
   "execution_count": 4,
   "id": "39f7c008-9422-4b52-ab01-ff923c6eaceb",
   "metadata": {
    "tags": []
   },
   "outputs": [
    {
     "name": "stdout",
     "output_type": "stream",
     "text": [
      "Resultado de la primera suma: 1.55\n",
      "Resultado de la segunda suma: 1.549\n"
     ]
    }
   ],
   "source": [
    "def suma1():\n",
    "    suma = 0\n",
    "    for i in range(1, 11):\n",
    "        suma += 1 / (i ** 2)\n",
    "    #return suma\n",
    "    return round(suma,3)\n",
    "\n",
    "def suma2():\n",
    "    suma = 0\n",
    "    for i in range(1, 11):\n",
    "        suma += round(1 / ((11 - i) ** 2),3)\n",
    "    return round(suma,3)\n",
    "\n",
    "resultado1 = suma1()\n",
    "resultado2 = suma2()\n",
    "\n",
    "print(\"Resultado de la primera suma:\", resultado1)\n",
    "print(\"Resultado de la segunda suma:\", resultado2)"
   ]
  },
  {
   "cell_type": "markdown",
   "id": "8c104072-2c13-4387-94a4-56aa9b3df9d1",
   "metadata": {},
   "source": [
    "**b) $\n",
    "\\sum_{n=1}^{10} \\left( \\frac{1}{n^3} \\right)$ primero por $ \\frac{1}{1} + \\frac{1}{8} + + \\frac{1}{27}+ \\cdots + \\frac{1}{1000}\n",
    "$** y luego por $ \\frac{1}{1000} + \\frac{1}{729} + \\cdots + \\frac{1}{1}$**"
   ]
  },
  {
   "cell_type": "code",
   "execution_count": 7,
   "id": "be22b75f-5d65-48b9-8fda-a80a23af1eab",
   "metadata": {
    "tags": []
   },
   "outputs": [
    {
     "name": "stdout",
     "output_type": "stream",
     "text": [
      "Resultado de la primera suma: 1.198\n",
      "Resultado de la segunda suma: 1.198\n"
     ]
    }
   ],
   "source": [
    "def suma1():\n",
    "    suma = 0\n",
    "    for i in range(1, 11):\n",
    "        suma += 1 / (i ** 3)\n",
    "    #return suma\n",
    "    return round(suma,3)\n",
    "\n",
    "def suma2():\n",
    "    suma = 0\n",
    "    for i in range(1, 11):\n",
    "        suma += round(1 / ((11 - i) ** 3),3)\n",
    "    return round(suma,3)\n",
    "\n",
    "resultado1 = suma1()\n",
    "resultado2 = suma2()\n",
    "\n",
    "print(\"Resultado de la primera suma:\", resultado1)\n",
    "print(\"Resultado de la segunda suma:\", resultado2)"
   ]
  },
  {
   "cell_type": "markdown",
   "id": "10a8c8f7-28b5-4cbb-9209-752b9f7141d8",
   "metadata": {},
   "source": [
    "**2) \tLa serie de Maclaurin para la función arcotangente converge para -1<x≤1  y está dada por**"
   ]
  },
  {
   "cell_type": "markdown",
   "id": "8b2db494-32cb-49c3-a1df-6c8f94238e4b",
   "metadata": {},
   "source": [
    "$\\arctan x = \\lim_{n \\to \\infty} P_n (x) = \\lim_{n \\to \\infty} \\sum_{i=1}^{n} (-1)^{i+1} \\frac{x^{2i-1}}{2i-1}$"
   ]
  },
  {
   "cell_type": "markdown",
   "id": "cd53a0ac-6398-435a-a139-bf02c13ae620",
   "metadata": {},
   "source": [
    "**a)\tUtilice el hecho de que tan 𝜋⁄4 = 1 para determinar el número n de términos de la serie que se necesita sumar para garantizar que |4P_n (1-π)|<10^(-3) |**"
   ]
  },
  {
   "cell_type": "code",
   "execution_count": null,
   "id": "ddbf59b1-8b39-4717-ae16-31f456df2c75",
   "metadata": {
    "tags": []
   },
   "outputs": [
    {
     "name": "stdout",
     "output_type": "stream",
     "text": [
      "Número de términos para |4Pn(1) - π| < 10^-3: 1000\n"
     ]
    }
   ],
   "source": [
    "import math\n",
    "\n",
    "def maclaurin_arctan_terms(epsilon):\n",
    "    n = 1\n",
    "    approx_pi = 0\n",
    "    term = 1  # Initial term for x = 1\n",
    "    x = 1\n",
    "    \n",
    "    while abs(4 * approx_pi - math.pi) >= epsilon:\n",
    "        approx_pi += (-1)**(n + 1) * x**(2 * n - 1) / (2 * n - 1)\n",
    "        n += 1\n",
    "    \n",
    "    return n - 1  # Subtract 1 because n was incremented one extra time\n",
    "\n",
    "n_terms = maclaurin_arctan_terms(1e-3)\n",
    "print(f\"Número de términos para |4Pn(1) - π| < 10^-3: {n_terms}\")\n",
    "n_terms = maclaurin_arctan_terms(1e-10)"
   ]
  },
  {
   "cell_type": "markdown",
   "id": "71330fd1-7673-4c71-8a1d-7d1a1a65c948",
   "metadata": {},
   "source": [
    "**b) \tEl lenguaje de programación C++ requiere que el valor de 𝜋 se encuentre dentro de 10^(-10). ¿Cuántos términos de la serie se necesitarían sumar para obtener este grado de precisión?**"
   ]
  },
  {
   "cell_type": "code",
   "execution_count": null,
   "id": "6f5b5ddd-91c8-40b0-814f-ec025047de34",
   "metadata": {
    "tags": []
   },
   "outputs": [],
   "source": [
    "print(f\"Numero de terminos para |4Pn(1) - π| < 10^-10: {n_terms}\")"
   ]
  },
  {
   "cell_type": "markdown",
   "id": "d9962d5a-4803-4784-b1a8-103b471b3750",
   "metadata": {},
   "source": [
    "**3. 3.\tOtra fórmula para calcular 𝜋 se puede deducir a partir de la identidad   \n",
    "$\\frac{\\pi}{4} = 4 \\arctan\\left(\\frac{1}{5} - \\arctan\\left(\\frac{1}{239}\\right)\\right)$  \n",
    "Determine el número de términos que se deben sumar para garantizar una aproximación 𝜋 dentro de $10^3$**"
   ]
  },
  {
   "cell_type": "code",
   "execution_count": null,
   "id": "e4f34343-a316-4d8e-b8e4-3f9b4fd06371",
   "metadata": {
    "tags": []
   },
   "outputs": [],
   "source": [
    "def calculate_pi_epsilon(epsilon):\n",
    "    n = 1\n",
    "    pi_approx = 0\n",
    "    term_1 = 1 / 5\n",
    "    term_2 = 1 / 239\n",
    "    \n",
    "    while abs(pi_approx - math.pi) >= epsilon:\n",
    "        pi_approx = 4 * (4 * sum_series_maclaurin(1 / 5, n) - sum_series_maclaurin(1 / 239, n))\n",
    "        n += 1\n",
    "    \n",
    "    return n - 1\n",
    "\n",
    "def sum_series_maclaurin(x, terms):\n",
    "    total_sum = 0\n",
    "    for i in range(1, terms + 1):\n",
    "        total_sum += (-1)**(i + 1) * x**(2 * i - 1) / (2 * i - 1)\n",
    "    return total_sum\n",
    "\n",
    "n_terms = calculate_pi_epsilon(1e-3)\n",
    "print(f\"Número de términos para la aproximación π dentro 10^-3: {n_terms}\")"
   ]
  },
  {
   "cell_type": "code",
   "execution_count": null,
   "id": "d347bb3e-9757-4ce8-8d16-cf11a7882421",
   "metadata": {},
   "outputs": [],
   "source": []
  }
 ],
 "metadata": {
  "kernelspec": {
   "display_name": "Python 3 (ipykernel)",
   "language": "python",
   "name": "python3"
  },
  "language_info": {
   "codemirror_mode": {
    "name": "ipython",
    "version": 3
   },
   "file_extension": ".py",
   "mimetype": "text/x-python",
   "name": "python",
   "nbconvert_exporter": "python",
   "pygments_lexer": "ipython3",
   "version": "3.11.7"
  }
 },
 "nbformat": 4,
 "nbformat_minor": 5
}
