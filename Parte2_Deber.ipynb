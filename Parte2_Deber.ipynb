{
 "cells": [
  {
   "cell_type": "raw",
   "id": "36153a73-af66-4646-9518-8241a58285b1",
   "metadata": {},
   "source": [
    "---\n",
    "title: \"Deber Metodos Numericos Parte 2\"\n",
    "author: \"Jose Armando\"\n",
    "lang: es\n",
    "format: \n",
    "  pdf:\n",
    "    toc: true\n",
    "    toc-title: \"Tabla de Contenidos\"  \n",
    "execute:\n",
    "  echo: true\n",
    "  error: false\n",
    "  warning: false\n",
    "jupyter: python3\n",
    "---"
   ]
  },
  {
   "cell_type": "markdown",
   "id": "33f7e375-664b-4151-9fee-37bb640ba53f",
   "metadata": {
    "tags": []
   },
   "source": [
    "# Discuciones"
   ]
  },
  {
   "cell_type": "markdown",
   "id": "dfa82958-9d80-4939-9db2-c823c7ce5c5f",
   "metadata": {},
   "source": [
    "**1. Escriba un algoritmo para calcular la serie finita $\\sum_{i=1}^n x_{i}\n",
    "$ en orden inverso.**"
   ]
  },
  {
   "cell_type": "code",
   "execution_count": 6,
   "id": "ca56a3dc-857c-4ede-aa74-bf366a1dd0ad",
   "metadata": {
    "tags": []
   },
   "outputs": [],
   "source": [
    "import math"
   ]
  },
  {
   "cell_type": "code",
   "execution_count": 8,
   "id": "a62817a2-3640-4eeb-851d-55399764d32b",
   "metadata": {
    "tags": []
   },
   "outputs": [
    {
     "name": "stdout",
     "output_type": "stream",
     "text": [
      "La suma de la serie desde 7 hasta 1 es: 28\n"
     ]
    }
   ],
   "source": [
    "def sumar_serie_decreciente(x):\n",
    "    suma = 0\n",
    "    \n",
    "    # Iterar desde x hasta 1\n",
    "    for i in range(x, 0, -1):\n",
    "        suma += i\n",
    "    \n",
    "    return suma\n",
    "\n",
    "# Ejemplo\n",
    "x = 7\n",
    "resultado = sumar_serie_decreciente(x)\n",
    "print(\"La suma de la serie desde\", x, \"hasta 1 es:\", resultado)"
   ]
  },
  {
   "cell_type": "markdown",
   "id": "86d7e760-20f2-43bd-a95f-9f14179124b0",
   "metadata": {},
   "source": [
    "**2. Las ecuaciones (1.2) y (1.3) en la sección 1.2 proporcionan formas alternativas para las raíces $( x_1 ) y ( x_2 )$ de $( ax^2 + bx + c = 0 )$. Construya un algoritmo con entrada $( a, b, c )$ y  salida  $( x_1, x_2 )$ que calcule las raíces $( x_1)$ y $( x_2 )$ (que pueden ser iguales o conjugados complejos) mediante la mejor fórmula para cada raíz.**"
   ]
  },
  {
   "cell_type": "code",
   "execution_count": 11,
   "id": "e9d6ded1-36aa-4d36-9a94-06d55de1d229",
   "metadata": {
    "tags": []
   },
   "outputs": [
    {
     "name": "stdout",
     "output_type": "stream",
     "text": [
      "Las raíces son: x1 = (3+0j), x2 = (2+0j)\n"
     ]
    }
   ],
   "source": [
    "import cmath\n",
    "def calcular_raices(a, b, c):\n",
    "    \n",
    "    # Calcular el discriminante\n",
    "    discriminante = b**2 - 4*a*c\n",
    "    \n",
    "    # Caso 1: Raíces reales distintas\n",
    "    if discriminante > 0:\n",
    "        x1 = (-b + cmath.sqrt(discriminante)) / (2*a)\n",
    "        x2 = (-b - cmath.sqrt(discriminante)) / (2*a)\n",
    "    \n",
    "    # Caso 2: Raíces reales iguales\n",
    "    elif discriminante == 0:\n",
    "        x1 = x2 = -b / (2*a)\n",
    "    \n",
    "    # Caso 3: Raíces complejas conjugadas\n",
    "    else:\n",
    "        discriminante_sqrt = cmath.sqrt(-discriminante)\n",
    "        x1 = (-b + discriminante_sqrt) / (2*a)\n",
    "        x2 = (-b - discriminante_sqrt) / (2*a)\n",
    "    \n",
    "    return x1, x2\n",
    "\n",
    "# Ejemplo de uso\n",
    "a = 1\n",
    "b = -5\n",
    "c = 6\n",
    "\n",
    "x1, x2 = calcular_raices(a, b, c)\n",
    "print(f\"Las raíces son: x1 = {x1}, x2 = {x2}\")"
   ]
  },
  {
   "cell_type": "markdown",
   "id": "35027abd-67a5-40bc-88ca-8b6907d997b4",
   "metadata": {},
   "source": [
    "**3. Suponga que\n",
    "$[\n",
    "\\frac{1 - 2x}{1 - x + x^2} + \\frac{2x - 4x^3}{1 - x^2 + x^4} + \\frac{4x^3 - 8x^7}{1 - x^4 + x^8} + \\cdots = \\frac{1 + 2x}{1 + x + x^2}\n",
    "]$\n",
    "para $( x < 1 )$ y si $( x = 0.25 )$. Escriba y ejecute un algoritmo que determine el número de términos necesarios en el lado izquierdo de la ecuación de tal forma que el lado izquierdo difiera del lado derecho en menos de $( 10^{-6}).\n",
    "$**"
   ]
  },
  {
   "cell_type": "code",
   "execution_count": 14,
   "id": "be5318af-efc8-49cc-81f9-ff356c3cb56f",
   "metadata": {
    "tags": []
   },
   "outputs": [
    {
     "name": "stdout",
     "output_type": "stream",
     "text": [
      "Numero de terminos necesarios: 11\n",
      "Suma del lado izquierdo con11 terminos: 0.2582075590925407\n",
      "Valor del lado derecho: 1.1428571428571428\n"
     ]
    }
   ],
   "source": [
    "def term(x, n):\n",
    "    try:\n",
    "        numerator = float(2**(n-1) * x**(2**(n-1)) - 2**n * x**(2**n))\n",
    "        denominator = float(1 - x**(2**n) + x**(2**(n+1)))\n",
    "        return numerator / denominator\n",
    "    except OverflowError:\n",
    "        return 0  # Consideramos que términos muy grandes son insignificantes\n",
    "\n",
    "def left_side_sum(x, tolerance):\n",
    "    n = 1\n",
    "    left_sum = 0\n",
    "    right_value = (1 + 2 * x) / (1 + x + x**2)\n",
    "    \n",
    "    while True:\n",
    "        current_term = term(x, n)\n",
    "        if current_term == 0:\n",
    "            break\n",
    "        left_sum += current_term\n",
    "        if abs(left_sum - right_value) < tolerance:\n",
    "            break\n",
    "        n += 1\n",
    "    \n",
    "    return n, left_sum\n",
    "\n",
    "x = 0.25\n",
    "tolerance = 10**(-6)\n",
    "n_terms, left_sum = left_side_sum(x, tolerance)\n",
    "\n",
    "print(f\"Numero de terminos necesarios: {n_terms}\")\n",
    "print(f\"Suma del lado izquierdo con{n_terms} terminos: {left_sum}\")\n",
    "print(f\"Valor del lado derecho: {(1 + 2 * x) / (1 + x + x**2)}\")\n"
   ]
  },
  {
   "cell_type": "code",
   "execution_count": null,
   "id": "8f02f589-8e6a-4a74-95db-ade2f652ba06",
   "metadata": {},
   "outputs": [],
   "source": []
  },
  {
   "cell_type": "code",
   "execution_count": null,
   "id": "7cd47bda-b9a2-4f7b-b17c-6c19954e4185",
   "metadata": {},
   "outputs": [],
   "source": []
  },
  {
   "cell_type": "code",
   "execution_count": null,
   "id": "a830bc1a-c346-4d7f-a4c4-3d83b1c292c6",
   "metadata": {},
   "outputs": [],
   "source": []
  }
 ],
 "metadata": {
  "kernelspec": {
   "display_name": "Python 3 (ipykernel)",
   "language": "python",
   "name": "python3"
  },
  "language_info": {
   "codemirror_mode": {
    "name": "ipython",
    "version": 3
   },
   "file_extension": ".py",
   "mimetype": "text/x-python",
   "name": "python",
   "nbconvert_exporter": "python",
   "pygments_lexer": "ipython3",
   "version": "3.11.7"
  }
 },
 "nbformat": 4,
 "nbformat_minor": 5
}
